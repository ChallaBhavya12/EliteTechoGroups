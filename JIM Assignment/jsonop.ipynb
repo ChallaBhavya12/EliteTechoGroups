{
  "nbformat": 4,
  "nbformat_minor": 0,
  "metadata": {
    "colab": {
      "name": "jsonop.ipynb",
      "provenance": []
    },
    "kernelspec": {
      "name": "python3",
      "display_name": "Python 3"
    },
    "language_info": {
      "name": "python"
    }
  },
  "cells": [
    {
      "cell_type": "code",
      "metadata": {
        "id": "Hc4qQJHY9sHl"
      },
      "source": [
        "record = { 11602259 : {\"name\": \"Ashish Jangra\" , \"Pno\": 1234, \"cgpa\" : 7.5},\n",
        "           11602260 : {\"name\": \"Gurpreet Singh\", \"Pno\": 5678, \"cgpa\" : 8},\n",
        "           11602261 : {\"name\": \"Rishu Kumar\"   , \"Pno\": 8984, \"cgpa\" : 7.8}}"
      ],
      "execution_count": 1,
      "outputs": []
    },
    {
      "cell_type": "code",
      "metadata": {
        "colab": {
          "base_uri": "https://localhost:8080/"
        },
        "id": "20wkc0J998sS",
        "outputId": "ab81e47a-146d-4550-bf9b-e211392ec781"
      },
      "source": [
        "reg = 11602260\n",
        "\n",
        "print(record[reg]['name'])\n",
        "print(record[reg]['Pno'])\n",
        "print(record[reg]['cgpa'])"
      ],
      "execution_count": 2,
      "outputs": [
        {
          "output_type": "stream",
          "name": "stdout",
          "text": [
            "Gurpreet Singh\n",
            "5678\n",
            "8\n"
          ]
        }
      ]
    },
    {
      "cell_type": "code",
      "metadata": {
        "id": "dsBUOhn69__0"
      },
      "source": [
        "record[11602260]['Pno'] = 999"
      ],
      "execution_count": 3,
      "outputs": []
    },
    {
      "cell_type": "code",
      "metadata": {
        "colab": {
          "base_uri": "https://localhost:8080/"
        },
        "id": "WnJMZuEE-E7R",
        "outputId": "f2be5665-76af-49a2-d182-a70dd44d2bb4"
      },
      "source": [
        "record"
      ],
      "execution_count": 4,
      "outputs": [
        {
          "output_type": "execute_result",
          "data": {
            "text/plain": [
              "{11602259: {'Pno': 1234, 'cgpa': 7.5, 'name': 'Ashish Jangra'},\n",
              " 11602260: {'Pno': 999, 'cgpa': 8, 'name': 'Gurpreet Singh'},\n",
              " 11602261: {'Pno': 8984, 'cgpa': 7.8, 'name': 'Rishu Kumar'}}"
            ]
          },
          "metadata": {},
          "execution_count": 4
        }
      ]
    },
    {
      "cell_type": "code",
      "metadata": {
        "id": "Y4g8-Ghl-Kwt"
      },
      "source": [
        "record = { 11602259 : {\"name\": \"Ashish Jangra\" , \"Pno\": 1234, \"cgpa\" : 7.5},\n",
        "           11602260 : {\"name\": \"Gurpreet Singh\", \"Pno\": 5678, \"cgpa\" : 8.2},\n",
        "           11602261 : {\"name\": \"Rishu Kumar\"   , \"Pno\": 8984, \"cgpa\" : 7.8}}"
      ],
      "execution_count": 5,
      "outputs": []
    },
    {
      "cell_type": "code",
      "metadata": {
        "id": "u4fNx-ia-PlZ"
      },
      "source": [
        "import json\n"
      ],
      "execution_count": 6,
      "outputs": []
    },
    {
      "cell_type": "code",
      "metadata": {
        "colab": {
          "base_uri": "https://localhost:8080/",
          "height": 52
        },
        "id": "Er690CKy-gOR",
        "outputId": "9c2816ba-a2cd-4816-80ee-f65c5c9a48fd"
      },
      "source": [
        "js = json.dumps(record)\n",
        "js"
      ],
      "execution_count": 7,
      "outputs": [
        {
          "output_type": "execute_result",
          "data": {
            "application/vnd.google.colaboratory.intrinsic+json": {
              "type": "string"
            },
            "text/plain": [
              "'{\"11602259\": {\"name\": \"Ashish Jangra\", \"Pno\": 1234, \"cgpa\": 7.5}, \"11602260\": {\"name\": \"Gurpreet Singh\", \"Pno\": 5678, \"cgpa\": 8.2}, \"11602261\": {\"name\": \"Rishu Kumar\", \"Pno\": 8984, \"cgpa\": 7.8}}'"
            ]
          },
          "metadata": {},
          "execution_count": 7
        }
      ]
    },
    {
      "cell_type": "code",
      "metadata": {
        "id": "zm7-zzCR-kC8"
      },
      "source": [
        "fd = open(\"record.txt\",'w')\n",
        "\n",
        "fd.write(js)\n",
        "\n",
        "fd.close()"
      ],
      "execution_count": 8,
      "outputs": []
    },
    {
      "cell_type": "code",
      "metadata": {
        "id": "vHoxpJ5b-vCF"
      },
      "source": [
        "fd = open(\"record.txt\",'r')\n",
        "\n",
        "txt = fd.read()\n",
        "\n",
        "fd.close()"
      ],
      "execution_count": 9,
      "outputs": []
    },
    {
      "cell_type": "code",
      "metadata": {
        "colab": {
          "base_uri": "https://localhost:8080/",
          "height": 52
        },
        "id": "MFt-i82B-ykw",
        "outputId": "fcfb5654-b33b-4e76-d040-1539bfeadfbe"
      },
      "source": [
        "txt"
      ],
      "execution_count": 10,
      "outputs": [
        {
          "output_type": "execute_result",
          "data": {
            "application/vnd.google.colaboratory.intrinsic+json": {
              "type": "string"
            },
            "text/plain": [
              "'{\"11602259\": {\"name\": \"Ashish Jangra\", \"Pno\": 1234, \"cgpa\": 7.5}, \"11602260\": {\"name\": \"Gurpreet Singh\", \"Pno\": 5678, \"cgpa\": 8.2}, \"11602261\": {\"name\": \"Rishu Kumar\", \"Pno\": 8984, \"cgpa\": 7.8}}'"
            ]
          },
          "metadata": {},
          "execution_count": 10
        }
      ]
    },
    {
      "cell_type": "code",
      "metadata": {
        "id": "f71hfHWx-25w"
      },
      "source": [
        "record = json.loads(txt)"
      ],
      "execution_count": 11,
      "outputs": []
    },
    {
      "cell_type": "code",
      "metadata": {
        "colab": {
          "base_uri": "https://localhost:8080/"
        },
        "id": "IJT0clpK-4J9",
        "outputId": "f3c6364d-9e14-4b91-caec-429aabff0a6a"
      },
      "source": [
        "record"
      ],
      "execution_count": 12,
      "outputs": [
        {
          "output_type": "execute_result",
          "data": {
            "text/plain": [
              "{'11602259': {'Pno': 1234, 'cgpa': 7.5, 'name': 'Ashish Jangra'},\n",
              " '11602260': {'Pno': 5678, 'cgpa': 8.2, 'name': 'Gurpreet Singh'},\n",
              " '11602261': {'Pno': 8984, 'cgpa': 7.8, 'name': 'Rishu Kumar'}}"
            ]
          },
          "metadata": {},
          "execution_count": 12
        }
      ]
    },
    {
      "cell_type": "code",
      "metadata": {
        "colab": {
          "base_uri": "https://localhost:8080/"
        },
        "id": "bWTd3kDa--BH",
        "outputId": "601370f3-d946-46a5-efb3-135b3702d040"
      },
      "source": [
        "record['11602259']"
      ],
      "execution_count": 13,
      "outputs": [
        {
          "output_type": "execute_result",
          "data": {
            "text/plain": [
              "{'Pno': 1234, 'cgpa': 7.5, 'name': 'Ashish Jangra'}"
            ]
          },
          "metadata": {},
          "execution_count": 13
        }
      ]
    },
    {
      "cell_type": "code",
      "metadata": {
        "id": "swFgVvGoBiz-"
      },
      "source": [
        "fd = open(\"record.json\",'w')\n",
        "\n",
        "txt = fd.write(js)\n",
        "\n",
        "fd.close()"
      ],
      "execution_count": null,
      "outputs": []
    },
    {
      "cell_type": "code",
      "metadata": {
        "id": "l6NBp0BB--88"
      },
      "source": [
        "fd = open(\"record.json\",'r')\n",
        "\n",
        "txt = fd.read()\n",
        "\n",
        "fd.close()"
      ],
      "execution_count": 18,
      "outputs": []
    },
    {
      "cell_type": "code",
      "metadata": {
        "id": "l74cnkOWAj4W"
      },
      "source": [
        "record=json.loads(txt)\n"
      ],
      "execution_count": 24,
      "outputs": []
    },
    {
      "cell_type": "code",
      "metadata": {
        "id": "I5F3mSShAxEE"
      },
      "source": [
        ""
      ],
      "execution_count": 24,
      "outputs": []
    },
    {
      "cell_type": "code",
      "metadata": {
        "id": "xeSxtfHOAzKH"
      },
      "source": [
        ""
      ],
      "execution_count": null,
      "outputs": []
    }
  ]
}