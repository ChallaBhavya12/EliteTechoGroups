{
  "nbformat": 4,
  "nbformat_minor": 0,
  "metadata": {
    "colab": {
      "name": "read and add.ipynb",
      "provenance": []
    },
    "kernelspec": {
      "name": "python3",
      "display_name": "Python 3"
    },
    "language_info": {
      "name": "python"
    }
  },
  "cells": [
    {
      "cell_type": "code",
      "metadata": {
        "id": "BZNEyr1ePkwt"
      },
      "source": [
        "record={'1001': {'name': 'Choco Cake', 'pr': 100, 'qn': 34},\n",
        " '1002': {'name': 'Milk Cake', 'pr': 800, 'qn': 100},\n",
        " '1003': {'name': 'Drink', 'pr': 85, 'qn': 100},\n",
        " '1004': {'name': 'Candy', 'pr': 5, 'qn': 1000},\n",
        " '1005': {'name': 'Pen', 'pr': 20, 'qn': 100},\n",
        " '1006': {'name': 'Phone', 'pr': 50000, 'qn': 10},\n",
        " '1007': {'name': 'Mic', 'pr': 1500, 'qn': 0},\n",
        " '1008': {'name': 'Case', 'pr': 599, 'qn': 5}}"
      ],
      "execution_count": 1,
      "outputs": []
    },
    {
      "cell_type": "code",
      "metadata": {
        "colab": {
          "base_uri": "https://localhost:8080/"
        },
        "id": "c0DABJ8APnA8",
        "outputId": "4cc60e96-34f4-42be-b6d9-8d568a586c14"
      },
      "source": [
        "record\n"
      ],
      "execution_count": 2,
      "outputs": [
        {
          "output_type": "execute_result",
          "data": {
            "text/plain": [
              "{'1001': {'name': 'Choco Cake', 'pr': 100, 'qn': 34},\n",
              " '1002': {'name': 'Milk Cake', 'pr': 800, 'qn': 100},\n",
              " '1003': {'name': 'Drink', 'pr': 85, 'qn': 100},\n",
              " '1004': {'name': 'Candy', 'pr': 5, 'qn': 1000},\n",
              " '1005': {'name': 'Pen', 'pr': 20, 'qn': 100},\n",
              " '1006': {'name': 'Phone', 'pr': 50000, 'qn': 10},\n",
              " '1007': {'name': 'Mic', 'pr': 1500, 'qn': 0},\n",
              " '1008': {'name': 'Case', 'pr': 599, 'qn': 5}}"
            ]
          },
          "metadata": {},
          "execution_count": 2
        }
      ]
    },
    {
      "cell_type": "code",
      "metadata": {
        "id": "PV0HDxR2PoTo"
      },
      "source": [
        "import json"
      ],
      "execution_count": 3,
      "outputs": []
    },
    {
      "cell_type": "code",
      "metadata": {
        "colab": {
          "base_uri": "https://localhost:8080/",
          "height": 85
        },
        "id": "OYiMqK22QkZj",
        "outputId": "6d7f777a-d246-4033-97ae-f13e6b5b3a4f"
      },
      "source": [
        "js = json.dumps(record)\n",
        "js"
      ],
      "execution_count": 5,
      "outputs": [
        {
          "output_type": "execute_result",
          "data": {
            "application/vnd.google.colaboratory.intrinsic+json": {
              "type": "string"
            },
            "text/plain": [
              "'{\"1001\": {\"name\": \"Choco Cake\", \"pr\": 100, \"qn\": 34}, \"1002\": {\"name\": \"Milk Cake\", \"pr\": 800, \"qn\": 100}, \"1003\": {\"name\": \"Drink\", \"pr\": 85, \"qn\": 100}, \"1004\": {\"name\": \"Candy\", \"pr\": 5, \"qn\": 1000}, \"1005\": {\"name\": \"Pen\", \"pr\": 20, \"qn\": 100}, \"1006\": {\"name\": \"Phone\", \"pr\": 50000, \"qn\": 10}, \"1007\": {\"name\": \"Mic\", \"pr\": 1500, \"qn\": 0}, \"1008\": {\"name\": \"Case\", \"pr\": 599, \"qn\": 5}}'"
            ]
          },
          "metadata": {},
          "execution_count": 5
        }
      ]
    },
    {
      "cell_type": "code",
      "metadata": {
        "id": "GM03AGqkQBCy"
      },
      "source": [
        "fd = open(\"record.txt\",'w')\n",
        "fd.write(js)\n",
        "fd.close()"
      ],
      "execution_count": 7,
      "outputs": []
    },
    {
      "cell_type": "markdown",
      "metadata": {
        "id": "KjvbX5C-RqFi"
      },
      "source": [
        "READ DATA"
      ]
    },
    {
      "cell_type": "code",
      "metadata": {
        "id": "l_9NpEr7QeY9"
      },
      "source": [
        "fd = open(\"record.txt\",'r')\n",
        "txt = fd.read()\n",
        "fd.close()"
      ],
      "execution_count": 13,
      "outputs": []
    },
    {
      "cell_type": "code",
      "metadata": {
        "colab": {
          "base_uri": "https://localhost:8080/",
          "height": 85
        },
        "id": "cYcjKvBBQw_Q",
        "outputId": "71073fd0-0cf2-4fa1-adbb-6a3a19c692f3"
      },
      "source": [
        "txt"
      ],
      "execution_count": 14,
      "outputs": [
        {
          "output_type": "execute_result",
          "data": {
            "application/vnd.google.colaboratory.intrinsic+json": {
              "type": "string"
            },
            "text/plain": [
              "'{\"1001\": {\"name\": \"Choco Cake\", \"pr\": 100, \"qn\": 34}, \"1002\": {\"name\": \"Milk Cake\", \"pr\": 800, \"qn\": 100}, \"1003\": {\"name\": \"Drink\", \"pr\": 85, \"qn\": 100}, \"1004\": {\"name\": \"Candy\", \"pr\": 5, \"qn\": 1000}, \"1005\": {\"name\": \"Pen\", \"pr\": 20, \"qn\": 100}, \"1006\": {\"name\": \"Phone\", \"pr\": 50000, \"qn\": 10}, \"1007\": {\"name\": \"Mic\", \"pr\": 1500, \"qn\": 0}, \"1008\": {\"name\": \"Case\", \"pr\": 599, \"qn\": 5}}'"
            ]
          },
          "metadata": {},
          "execution_count": 14
        }
      ]
    },
    {
      "cell_type": "code",
      "metadata": {
        "id": "CGBj40ELQx2f"
      },
      "source": [
        "record = json.loads(txt)"
      ],
      "execution_count": 15,
      "outputs": []
    },
    {
      "cell_type": "code",
      "metadata": {
        "id": "icr2PsmOQ4fV"
      },
      "source": [
        "fd = open(\"record.json\",'w')\n",
        "txt = fd.write(js)\n",
        "fd.close()"
      ],
      "execution_count": 12,
      "outputs": []
    },
    {
      "cell_type": "code",
      "metadata": {
        "id": "mF6uLBeoQ_v7"
      },
      "source": [
        ""
      ],
      "execution_count": null,
      "outputs": []
    },
    {
      "cell_type": "markdown",
      "metadata": {
        "id": "_OEln4_KRx48"
      },
      "source": [
        "Add New item to inventory"
      ]
    },
    {
      "cell_type": "code",
      "metadata": {
        "colab": {
          "base_uri": "https://localhost:8080/"
        },
        "id": "mVXSnLO3RJPL",
        "outputId": "0f85d2eb-ed46-4e15-b926-4faf35495e2c"
      },
      "source": [
        "prod_id = str(input(\"Enter product id:\"))\n",
        "name = str(input(\"Enter name:\"))\n",
        "pr = int(input(\"Enter price:\"))\n",
        "qn = int(input(\"Enter quantity:\"))\n",
        "\n",
        "record[prod_id] = {'name': name, 'pr': pr, 'qn': qn}\n",
        "\n",
        "js = json.dumps(record)\n",
        "\n",
        "fd = open(\"record.json\",'w')\n",
        "fd.write(js)\n",
        "fd.close()"
      ],
      "execution_count": 36,
      "outputs": [
        {
          "name": "stdout",
          "output_type": "stream",
          "text": [
            "Enter product id:1020\n",
            "Enter name:mouse\n",
            "Enter price:499\n",
            "Enter quantity:8\n"
          ]
        }
      ]
    },
    {
      "cell_type": "code",
      "metadata": {
        "colab": {
          "base_uri": "https://localhost:8080/"
        },
        "id": "7JdkZg9CRJRj",
        "outputId": "88d4adbb-0d57-44b8-9565-8760f239cd63"
      },
      "source": [
        "record"
      ],
      "execution_count": 38,
      "outputs": [
        {
          "output_type": "execute_result",
          "data": {
            "text/plain": [
              "{'1001': {'name': 'Choco Cake', 'pr': 100, 'qn': 34},\n",
              " '1002': {'name': 'Milk Cake', 'pr': 800, 'qn': 100},\n",
              " '1003': {'name': 'Drink', 'pr': 85, 'qn': 100},\n",
              " '1004': {'name': 'Candy', 'pr': 5, 'qn': 1000},\n",
              " '1005': {'name': 'Pen', 'pr': 20, 'qn': 100},\n",
              " '1006': {'name': 'Phone', 'pr': 50000, 'qn': 10},\n",
              " '1007': {'name': 'Mic', 'pr': 1500, 'qn': 0},\n",
              " '1008': {'name': 'Case', 'pr': 599, 'qn': 5},\n",
              " '1010': {'name': 'pencil', 'pr': 6, 'qn': 12},\n",
              " '1011': {'name': 'eraser', 'pr': 4, 'qn': 4},\n",
              " '1012': {'name': 'bread', 'pr': 22, 'qn': 8},\n",
              " '1013': {'name': 'jam', 'pr': 45, 'qn': 3},\n",
              " '1014': {'name': 'sketches', 'pr': 99, 'qn': 20},\n",
              " '1015': {'name': 'papers', 'pr': 1, 'qn': 1000},\n",
              " '1016': {'name': 'labels', 'pr': 5, 'qn': 50},\n",
              " '1017': {'name': 'Hersheys', 'pr': 285, 'qn': 5},\n",
              " '1018': {'name': 'bun', 'pr': 25, 'qn': 4},\n",
              " '1019': {'name': 'Nutella', 'pr': 450, 'qn': 1},\n",
              " '1020': {'name': 'mouse', 'pr': 499, 'qn': 8}}"
            ]
          },
          "metadata": {},
          "execution_count": 38
        }
      ]
    },
    {
      "cell_type": "code",
      "metadata": {
        "id": "WBMnV-3RRJUA"
      },
      "source": [
        ""
      ],
      "execution_count": null,
      "outputs": []
    },
    {
      "cell_type": "code",
      "metadata": {
        "id": "4oD0dYBqRJXg"
      },
      "source": [
        ""
      ],
      "execution_count": null,
      "outputs": []
    }
  ]
}